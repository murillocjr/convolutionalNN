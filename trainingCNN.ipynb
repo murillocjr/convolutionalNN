{
 "cells": [
  {
   "cell_type": "markdown",
   "metadata": {},
   "source": [
    "https://medium.com/@ksusorokina/image-classification-with-convolutional-neural-networks-496815db12a8"
   ]
  },
  {
   "cell_type": "code",
   "execution_count": 3,
   "metadata": {},
   "outputs": [
    {
     "name": "stdout",
     "output_type": "stream",
     "text": [
      "(183, 275, 3)\n",
      "(1, 183, 275, 3)\n",
      "preview/z_0_1980.jpeg\n"
     ]
    },
    {
     "data": {
      "text/plain": [
       "<Figure size 640x480 with 1 Axes>"
      ]
     },
     "metadata": {},
     "output_type": "display_data"
    },
    {
     "name": "stdout",
     "output_type": "stream",
     "text": [
      "(183, 275, 3)\n"
     ]
    }
   ],
   "source": [
    "from keras.preprocessing.image import ImageDataGenerator, array_to_img, img_to_array, load_img\n",
    "import imageio as imageio\n",
    "import os, random\n",
    "import matplotlib.pyplot as plt\n",
    "\n",
    "datagen = ImageDataGenerator(\n",
    "        width_shift_range=0.2,\n",
    "        height_shift_range=0.2,\n",
    "        zoom_range=0.2,\n",
    "        horizontal_flip=True,\n",
    "        fill_mode='nearest')\n",
    "\n",
    "#no rotation, skewing or shearing\n",
    "\n",
    "img = load_img('images/z0.jpg')  \n",
    "x = img_to_array(img)\n",
    "print(x.shape)\n",
    "x = x.reshape((1,) + x.shape)\n",
    "x.shape\n",
    "print(x.shape)\n",
    "\n",
    "#image loaded\n",
    "\n",
    "i = 0\n",
    "for batch in datagen.flow(x, batch_size=1,\n",
    "                         save_to_dir='preview', save_prefix='z', save_format='jpeg'):\n",
    "    i += 1\n",
    "    if i > 3: #extra generated image count\n",
    "        break\n",
    "        \n",
    "#augmented data generated\n",
    "\n",
    "random_file = \"preview/\"+random.choice(os.listdir(\"preview\"))\n",
    "print(random_file)\n",
    "image = imageio.imread(random_file)\n",
    "plt.imshow(image)\n",
    "plt.show()\n",
    "print(image.shape)"
   ]
  },
  {
   "cell_type": "code",
   "execution_count": 1,
   "metadata": {},
   "outputs": [
    {
     "name": "stderr",
     "output_type": "stream",
     "text": [
      "Using TensorFlow backend.\n"
     ]
    }
   ],
   "source": [
    "# MODEL\n",
    "from keras.models import Sequential\n",
    "from keras.layers import Conv2D, MaxPooling2D\n",
    "from keras.layers import Activation, Dropout, Flatten, Dense\n",
    "\n",
    "model = Sequential()\n",
    "model.add(Conv2D(32, (3, 3), input_shape=(300, 300, 3)))\n",
    "model.add(Activation('relu'))\n",
    "model.add(MaxPooling2D(pool_size=(2, 2)))\n",
    "\n",
    "model.add(Conv2D(32, (3, 3)))\n",
    "model.add(Activation('relu'))\n",
    "model.add(MaxPooling2D(pool_size=(2, 2)))\n",
    "\n",
    "model.add(Conv2D(64, (3, 3)))\n",
    "model.add(Activation('relu'))\n",
    "model.add(MaxPooling2D(pool_size=(2, 2)))\n",
    "\n",
    "# the model so far outputs 3D feature maps (height, width, features)\n",
    "\n",
    "model.add(Flatten())  # this converts our 3D feature maps to 1D feature vectors\n",
    "model.add(Dense(64))\n",
    "model.add(Activation('relu'))\n",
    "model.add(Dropout(0.5))\n",
    "model.add(Dense(1))\n",
    "model.add(Activation('sigmoid'))\n",
    "# COMPILE\n",
    "model.compile(loss='binary_crossentropy',\n",
    "              optimizer='rmsprop',\n",
    "              metrics=['accuracy'])"
   ]
  },
  {
   "cell_type": "code",
   "execution_count": 6,
   "metadata": {},
   "outputs": [
    {
     "name": "stdout",
     "output_type": "stream",
     "text": [
      "Found 15 images belonging to 2 classes.\n",
      "Found 4 images belonging to 2 classes.\n"
     ]
    }
   ],
   "source": [
    "batch_size = 16\n",
    "\n",
    "train_datagen = ImageDataGenerator(\n",
    "        width_shift_range=0.2,\n",
    "        height_shift_range=0.2,\n",
    "        zoom_range=0.2,\n",
    "        horizontal_flip=True,\n",
    "        fill_mode='nearest')\n",
    "\n",
    "test_datagen = ImageDataGenerator(\n",
    "        width_shift_range=0.2,\n",
    "        height_shift_range=0.2,\n",
    "        zoom_range=0.2,\n",
    "        horizontal_flip=True,\n",
    "        fill_mode='nearest')\n",
    "\n",
    "# this is a generator that will read pictures found in subfolers of 'data/train', and indefinitely generate\n",
    "# batches of augmented image data\n",
    "train_generator = train_datagen.flow_from_directory(\n",
    "        'train',  # this is the target directory\n",
    "        target_size=(300, 300),  # all images will be resized to 300x300\n",
    "        batch_size=batch_size,\n",
    "        class_mode='binary')  # since we use binary_crossentropy loss, we need binary labels\n",
    "\n",
    "# this is a similar generator, for validation data\n",
    "validation_generator = test_datagen.flow_from_directory(\n",
    "        'validation',\n",
    "        target_size=(300, 300),\n",
    "        batch_size=batch_size,\n",
    "        class_mode='binary')"
   ]
  },
  {
   "cell_type": "code",
   "execution_count": 7,
   "metadata": {},
   "outputs": [
    {
     "name": "stdout",
     "output_type": "stream",
     "text": [
      "Epoch 1/10\n",
      "25/25 [==============================] - 34s 1s/step - loss: 9.2852 - acc: 0.4187 - val_loss: 7.9712 - val_acc: 0.5000\n",
      "Epoch 2/10\n",
      "25/25 [==============================] - 33s 1s/step - loss: 8.0252 - acc: 0.4987 - val_loss: 7.9712 - val_acc: 0.5000\n",
      "Epoch 3/10\n",
      "25/25 [==============================] - 33s 1s/step - loss: 8.6834 - acc: 0.4560 - val_loss: 8.0590 - val_acc: 0.5000\n",
      "Epoch 4/10\n",
      "25/25 [==============================] - 33s 1s/step - loss: 8.2495 - acc: 0.4853 - val_loss: 8.0590 - val_acc: 0.5000\n",
      "Epoch 5/10\n",
      "25/25 [==============================] - 33s 1s/step - loss: 8.2911 - acc: 0.4827 - val_loss: 8.0590 - val_acc: 0.5000\n",
      "Epoch 6/10\n",
      "25/25 [==============================] - 36s 1s/step - loss: 8.0771 - acc: 0.4960 - val_loss: 8.0590 - val_acc: 0.5000\n",
      "Epoch 7/10\n",
      "25/25 [==============================] - 32s 1s/step - loss: 7.6931 - acc: 0.5200 - val_loss: 8.0590 - val_acc: 0.5000\n",
      "Epoch 8/10\n",
      "25/25 [==============================] - 32s 1s/step - loss: 7.9264 - acc: 0.5040 - val_loss: 8.0590 - val_acc: 0.5000\n",
      "Epoch 9/10\n",
      "25/25 [==============================] - 33s 1s/step - loss: 7.8725 - acc: 0.5093 - val_loss: 8.0590 - val_acc: 0.5000\n",
      "Epoch 10/10\n",
      "25/25 [==============================] - 33s 1s/step - loss: 7.6198 - acc: 0.5253 - val_loss: 8.0590 - val_acc: 0.5000\n"
     ]
    }
   ],
   "source": [
    "# TRAINING\n",
    "model.fit_generator(\n",
    "        train_generator,\n",
    "        steps_per_epoch=400 // batch_size,\n",
    "        epochs=10,\n",
    "        validation_data=validation_generator,\n",
    "        validation_steps=160 // batch_size)\n",
    "\n",
    "model.save_weights('10_epochs.h5')  # always save your weights after training or during training"
   ]
  }
 ],
 "metadata": {
  "kernelspec": {
   "display_name": "Python 3",
   "language": "python",
   "name": "python3"
  },
  "language_info": {
   "codemirror_mode": {
    "name": "ipython",
    "version": 3
   },
   "file_extension": ".py",
   "mimetype": "text/x-python",
   "name": "python",
   "nbconvert_exporter": "python",
   "pygments_lexer": "ipython3",
   "version": "3.6.6"
  }
 },
 "nbformat": 4,
 "nbformat_minor": 2
}
